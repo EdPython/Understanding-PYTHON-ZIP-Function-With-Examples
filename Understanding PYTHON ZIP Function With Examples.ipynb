{
 "cells": [
  {
   "cell_type": "code",
   "execution_count": null,
   "id": "c0443379",
   "metadata": {},
   "outputs": [],
   "source": [
    "# Understanding Python Zip Function With Examples"
   ]
  },
  {
   "cell_type": "code",
   "execution_count": null,
   "id": "76ae488d",
   "metadata": {},
   "outputs": [],
   "source": [
    "for city in zip ([1,2,3,4,5], ['New York', 'Los Angeles', 'Chicago', 'Houston', 'Philadelphia']):\n",
    "    print(city)"
   ]
  },
  {
   "cell_type": "code",
   "execution_count": null,
   "id": "d86c8245",
   "metadata": {},
   "outputs": [],
   "source": [
    "for i in zip ([1,2,3,4,5], ['New York', 'Los Angeles', 'Chicago', 'Houston', 'Philadelphia'], ['Big Apple', 'City of Angels', 'Windy City', 'Space City', 'The City of Brotherly Love']): \n",
    "  print(i)"
   ]
  },
  {
   "cell_type": "code",
   "execution_count": null,
   "id": "1f4a6f86",
   "metadata": {},
   "outputs": [],
   "source": [
    "z = zip(['Alaska', 'Texas', 'California'], [570641, 261914, 155973])"
   ]
  },
  {
   "cell_type": "code",
   "execution_count": null,
   "id": "940a5c18",
   "metadata": {},
   "outputs": [],
   "source": [
    "states, sqmiles = zip(*z)"
   ]
  },
  {
   "cell_type": "code",
   "execution_count": null,
   "id": "a161e225",
   "metadata": {},
   "outputs": [],
   "source": [
    "states"
   ]
  },
  {
   "cell_type": "code",
   "execution_count": null,
   "id": "d50c1b6a",
   "metadata": {},
   "outputs": [],
   "source": [
    "sqmiles"
   ]
  },
  {
   "cell_type": "code",
   "execution_count": null,
   "id": "cc797123",
   "metadata": {},
   "outputs": [],
   "source": []
  }
 ],
 "metadata": {
  "kernelspec": {
   "display_name": "Python 3",
   "language": "python",
   "name": "python3"
  },
  "language_info": {
   "codemirror_mode": {
    "name": "ipython",
    "version": 3
   },
   "file_extension": ".py",
   "mimetype": "text/x-python",
   "name": "python",
   "nbconvert_exporter": "python",
   "pygments_lexer": "ipython3",
   "version": "3.9.2"
  }
 },
 "nbformat": 4,
 "nbformat_minor": 5
}
